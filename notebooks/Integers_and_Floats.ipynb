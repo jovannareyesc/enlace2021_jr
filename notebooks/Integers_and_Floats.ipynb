{
 "cells": [
  {
   "cell_type": "code",
   "execution_count": 2,
   "id": "121a6270-4a79-4399-a1f8-3d13bbde6fa1",
   "metadata": {},
   "outputs": [
    {
     "name": "stdout",
     "output_type": "stream",
     "text": [
      "<class 'float'>\n"
     ]
    }
   ],
   "source": [
    "num = 3.14\n",
    "\n",
    "\n",
    "print(type(num))"
   ]
  },
  {
   "cell_type": "code",
   "execution_count": 3,
   "id": "7ee591d1-7417-450e-bcd4-d88ebbb43663",
   "metadata": {},
   "outputs": [
    {
     "name": "stdout",
     "output_type": "stream",
     "text": [
      "5\n"
     ]
    }
   ],
   "source": [
    "print(3+2)"
   ]
  },
  {
   "cell_type": "code",
   "execution_count": 4,
   "id": "6bce3d61-37d8-4b07-95e7-34d6f8ccf095",
   "metadata": {},
   "outputs": [
    {
     "name": "stdout",
     "output_type": "stream",
     "text": [
      "1\n"
     ]
    }
   ],
   "source": [
    "print(3-2)"
   ]
  },
  {
   "cell_type": "code",
   "execution_count": 5,
   "id": "d7047470-2425-4a77-b696-fd56f08519a1",
   "metadata": {},
   "outputs": [
    {
     "name": "stdout",
     "output_type": "stream",
     "text": [
      "6\n"
     ]
    }
   ],
   "source": [
    "print(3*2)"
   ]
  },
  {
   "cell_type": "code",
   "execution_count": 6,
   "id": "479976c2-7f68-4c42-ba74-952357f446d2",
   "metadata": {},
   "outputs": [
    {
     "name": "stdout",
     "output_type": "stream",
     "text": [
      "1.5\n"
     ]
    }
   ],
   "source": [
    "print(3/2)"
   ]
  },
  {
   "cell_type": "code",
   "execution_count": 7,
   "id": "1fc4c3c2-c7ad-43d4-8183-c4c86306a67f",
   "metadata": {},
   "outputs": [
    {
     "name": "stdout",
     "output_type": "stream",
     "text": [
      "1\n"
     ]
    }
   ],
   "source": [
    "print(3//2)"
   ]
  },
  {
   "cell_type": "code",
   "execution_count": 8,
   "id": "63b51515-4aa0-4aab-802d-379de0980ccd",
   "metadata": {},
   "outputs": [
    {
     "name": "stdout",
     "output_type": "stream",
     "text": [
      "9\n"
     ]
    }
   ],
   "source": [
    "print(3**2)"
   ]
  },
  {
   "cell_type": "code",
   "execution_count": 9,
   "id": "ebee0fc2-c33c-4705-9e8a-9cab85463af7",
   "metadata": {},
   "outputs": [
    {
     "name": "stdout",
     "output_type": "stream",
     "text": [
      "1\n"
     ]
    }
   ],
   "source": [
    "print(3%2)"
   ]
  },
  {
   "cell_type": "code",
   "execution_count": 10,
   "id": "456f0f88-b83c-4a1a-be38-cc1b806a8964",
   "metadata": {},
   "outputs": [
    {
     "name": "stdout",
     "output_type": "stream",
     "text": [
      "0\n"
     ]
    }
   ],
   "source": [
    "print(2%2)"
   ]
  },
  {
   "cell_type": "code",
   "execution_count": 11,
   "id": "feb7ad25-715e-4db0-b3c8-6bfb7111c467",
   "metadata": {},
   "outputs": [
    {
     "name": "stdout",
     "output_type": "stream",
     "text": [
      "0\n"
     ]
    }
   ],
   "source": [
    "print(4%2)"
   ]
  },
  {
   "cell_type": "code",
   "execution_count": 12,
   "id": "894b8640-38fd-42c1-ac72-c41a67ccfc9b",
   "metadata": {},
   "outputs": [
    {
     "name": "stdout",
     "output_type": "stream",
     "text": [
      "1\n"
     ]
    }
   ],
   "source": [
    "print(5%2)"
   ]
  },
  {
   "cell_type": "code",
   "execution_count": 16,
   "id": "a8df56ed-ac97-4722-9984-0b7f3a637e7a",
   "metadata": {},
   "outputs": [
    {
     "name": "stdout",
     "output_type": "stream",
     "text": [
      "9\n"
     ]
    }
   ],
   "source": [
    "print(3 * (2 + 1))"
   ]
  },
  {
   "cell_type": "code",
   "execution_count": 20,
   "id": "bde659c8-62cf-40e8-a8c5-b6f4712aa64a",
   "metadata": {},
   "outputs": [
    {
     "name": "stdout",
     "output_type": "stream",
     "text": [
      "10\n"
     ]
    }
   ],
   "source": [
    "num = 1\n",
    "\n",
    "num *=  10\n",
    "\n",
    "print(num)"
   ]
  },
  {
   "cell_type": "code",
   "execution_count": 23,
   "id": "67f8b4a6-1e2d-4740-b926-5e6e15e310f7",
   "metadata": {},
   "outputs": [
    {
     "name": "stdout",
     "output_type": "stream",
     "text": [
      "3.8\n"
     ]
    }
   ],
   "source": [
    "print(round(3.75, 1))"
   ]
  },
  {
   "cell_type": "code",
   "execution_count": 28,
   "id": "dce774bb-2084-4db8-9cf7-fd9f26b93a40",
   "metadata": {},
   "outputs": [
    {
     "name": "stdout",
     "output_type": "stream",
     "text": [
      "False\n"
     ]
    }
   ],
   "source": [
    "num_1 = 3\n",
    "num_2 = 2\n",
    "\n",
    "print(num_1 <= num_2)"
   ]
  },
  {
   "cell_type": "code",
   "execution_count": 30,
   "id": "cf29fbec-3f3d-4ec4-bcbf-b161fcb9ebab",
   "metadata": {},
   "outputs": [
    {
     "name": "stdout",
     "output_type": "stream",
     "text": [
      "300\n"
     ]
    }
   ],
   "source": [
    "num_1 = '100'\n",
    "num_2 = '200'\n",
    "\n",
    "\n",
    "num_1 = int(num_1)\n",
    "num_2 = int(num_2)\n",
    "\n",
    "print(num_1 + num_2)"
   ]
  },
  {
   "cell_type": "code",
   "execution_count": null,
   "id": "093ad9cf-6379-43c8-a565-386600a640f8",
   "metadata": {},
   "outputs": [],
   "source": []
  }
 ],
 "metadata": {
  "kernelspec": {
   "display_name": "Python 3",
   "language": "python",
   "name": "python3"
  },
  "language_info": {
   "codemirror_mode": {
    "name": "ipython",
    "version": 3
   },
   "file_extension": ".py",
   "mimetype": "text/x-python",
   "name": "python",
   "nbconvert_exporter": "python",
   "pygments_lexer": "ipython3",
   "version": "3.9.1"
  }
 },
 "nbformat": 4,
 "nbformat_minor": 5
}
