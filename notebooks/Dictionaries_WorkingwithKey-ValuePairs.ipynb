{
 "cells": [
  {
   "cell_type": "code",
   "execution_count": 10,
   "id": "ddaec908-8406-4a26-95cd-33820786dec4",
   "metadata": {},
   "outputs": [
    {
     "name": "stdout",
     "output_type": "stream",
     "text": [
      "{'name': 'Jane', 'age': 25, 'courses': ['Math', 'Compsci'], 'phone': '555-5555'}\n"
     ]
    }
   ],
   "source": [
    "\n",
    "student = {'name':'John','age': 25, 'courses': ['Math', 'Compsci']}\n",
    "\n",
    "student['phone'] = '555-5555'\n",
    "student['name'] = 'Jane'\n",
    "\n",
    "#print(student.get('phone', 'Not Found'))\n",
    "print(student)"
   ]
  },
  {
   "cell_type": "code",
   "execution_count": 11,
   "id": "2cc41c9e-6a9b-4bb3-9edc-8bc7770f828f",
   "metadata": {},
   "outputs": [
    {
     "name": "stdout",
     "output_type": "stream",
     "text": [
      "{'name': 'Jane', 'age': 26, 'courses': ['Math', 'Compsci'], 'phone': '555-5555'}\n"
     ]
    }
   ],
   "source": [
    "student = {'name':'John','age': 25, 'courses': ['Math', 'Compsci']}\n",
    "\n",
    "student.update({'name': 'Jane', 'age': 26, 'phone': '555-5555'})\n",
    "\n",
    "#print(student.get('phone', 'Not Found'))\n",
    "print(student)"
   ]
  },
  {
   "cell_type": "code",
   "execution_count": 14,
   "id": "297676e6-787b-4bb0-ba19-8ef3f10ad6eb",
   "metadata": {},
   "outputs": [
    {
     "name": "stdout",
     "output_type": "stream",
     "text": [
      "{'name': 'John', 'courses': ['Math', 'Compsci']}\n",
      "25\n"
     ]
    }
   ],
   "source": [
    "student = {'name':'John','age': 25, 'courses': ['Math', 'Compsci']}\n",
    "\n",
    "age = student.pop('age')\n",
    "\n",
    "print(student)\n",
    "print(age)"
   ]
  },
  {
   "cell_type": "code",
   "execution_count": 19,
   "id": "875c762f-9a80-430c-ac68-d207945e20f9",
   "metadata": {},
   "outputs": [
    {
     "name": "stdout",
     "output_type": "stream",
     "text": [
      "dict_items([('name', 'John'), ('age', 25), ('courses', ['Math', 'Compsci'])])\n"
     ]
    }
   ],
   "source": [
    "student = {'name':'John','age': 25, 'courses': ['Math', 'Compsci']}\n",
    "\n",
    "print(student.items())"
   ]
  },
  {
   "cell_type": "code",
   "execution_count": 23,
   "id": "984f9c9a-0a37-4a7e-8010-b25ba79f90f8",
   "metadata": {},
   "outputs": [
    {
     "name": "stdout",
     "output_type": "stream",
     "text": [
      "name John\n",
      "age 25\n",
      "courses ['Math', 'Compsci']\n"
     ]
    }
   ],
   "source": [
    "student = {'name':'John','age': 25, 'courses': ['Math', 'Compsci']}\n",
    "\n",
    "for key, value in student.items():\n",
    "    print(key, value)"
   ]
  },
  {
   "cell_type": "code",
   "execution_count": null,
   "id": "12de673c-c0f2-44c5-b55a-95c0e9eec8eb",
   "metadata": {},
   "outputs": [],
   "source": []
  }
 ],
 "metadata": {
  "kernelspec": {
   "display_name": "Python 3",
   "language": "python",
   "name": "python3"
  },
  "language_info": {
   "codemirror_mode": {
    "name": "ipython",
    "version": 3
   },
   "file_extension": ".py",
   "mimetype": "text/x-python",
   "name": "python",
   "nbconvert_exporter": "python",
   "pygments_lexer": "ipython3",
   "version": "3.9.1"
  }
 },
 "nbformat": 4,
 "nbformat_minor": 5
}
