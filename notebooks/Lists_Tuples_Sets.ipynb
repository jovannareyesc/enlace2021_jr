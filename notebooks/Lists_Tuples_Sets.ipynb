{
 "cells": [
  {
   "cell_type": "code",
   "execution_count": 17,
   "id": "fe813e5d-a055-45e6-9a34-65f18849ec27",
   "metadata": {},
   "outputs": [
    {
     "name": "stdout",
     "output_type": "stream",
     "text": [
      "['History', 'Math', 'Physics', 'Compsci', 'Art', 'Education']\n"
     ]
    }
   ],
   "source": [
    "courses = ['History', 'Math', 'Physics', 'Compsci']\n",
    "courses_2 = ['Art', 'Education']\n",
    "\n",
    "courses.extend(courses_2)\n",
    "\n",
    "print(courses)\n"
   ]
  },
  {
   "cell_type": "code",
   "execution_count": 20,
   "id": "21e8fea2-65bb-4ab9-a360-edf47ca953cd",
   "metadata": {},
   "outputs": [
    {
     "name": "stdout",
     "output_type": "stream",
     "text": [
      "Compsci\n",
      "['History', 'Math', 'Physics']\n"
     ]
    }
   ],
   "source": [
    "courses = ['History', 'Math', 'Physics', 'Compsci']\n",
    "\n",
    "popped = courses.pop()\n",
    "\n",
    "print(popped)\n",
    "print(courses)\n",
    "\n"
   ]
  },
  {
   "cell_type": "code",
   "execution_count": 26,
   "id": "13d486bf-05d7-487d-aefa-c6116400f101",
   "metadata": {},
   "outputs": [
    {
     "name": "stdout",
     "output_type": "stream",
     "text": [
      "['Physics', 'Math', 'History', 'Compsci']\n",
      "[5, 4, 3, 2, 1]\n"
     ]
    }
   ],
   "source": [
    "courses = ['History', 'Math', 'Physics', 'Compsci']\n",
    "\n",
    "nums = [1, 5, 2, 4, 3]\n",
    "\n",
    "courses.sort(reverse=True)\n",
    "nums.sort(reverse=True)\n",
    " \n",
    "print(courses)\n",
    "# print(nums)\n"
   ]
  },
  {
   "cell_type": "code",
   "execution_count": 31,
   "id": "93a7a306-7de1-4dc2-97a0-461ac2d55f67",
   "metadata": {},
   "outputs": [
    {
     "name": "stdout",
     "output_type": "stream",
     "text": [
      "15\n"
     ]
    }
   ],
   "source": [
    "courses = ['History', 'Math', 'Physics', 'Compsci']\n",
    "\n",
    "nums = [1, 5, 2, 4, 3]\n",
    "\n",
    "sorted_courses = sorted (courses)\n",
    " \n",
    "# print(sorted_courses)\n",
    "print(sum(nums))"
   ]
  },
  {
   "cell_type": "code",
   "execution_count": 43,
   "id": "12a29595-1f47-43a7-82c3-cd0768d6086a",
   "metadata": {},
   "outputs": [
    {
     "name": "stdout",
     "output_type": "stream",
     "text": [
      "1 History\n",
      "2 Math\n",
      "3 Physics\n",
      "4 Compsci\n"
     ]
    }
   ],
   "source": [
    "courses = ['History', 'Math', 'Physics', 'Compsci']\n",
    "\n",
    "for index, course in enumerate(courses, start=1):\n",
    "    print(index, course)"
   ]
  },
  {
   "cell_type": "code",
   "execution_count": 47,
   "id": "e07a4534-a8e8-49bc-989e-5b516946e9d9",
   "metadata": {},
   "outputs": [
    {
     "name": "stdout",
     "output_type": "stream",
     "text": [
      "History - Math - Physics - Compsci\n",
      "['History', 'Math', 'Physics', 'Compsci']\n"
     ]
    }
   ],
   "source": [
    "courses = ['History', 'Math', 'Physics', 'Compsci']\n",
    "\n",
    "course_str = ' - '.join(courses)\n",
    "\n",
    "new_list = course_str.split(' - ')\n",
    "\n",
    "print(course_str)\n",
    "print(new_list)"
   ]
  },
  {
   "cell_type": "code",
   "execution_count": 54,
   "id": "126d4e17-b19a-4e52-b5e5-4ff9233be95c",
   "metadata": {},
   "outputs": [
    {
     "name": "stdout",
     "output_type": "stream",
     "text": [
      "('History', 'Math', 'Physics', 'Compsci')\n",
      "['Art', 'Math', 'Physics', 'Compsci']\n"
     ]
    }
   ],
   "source": [
    "#Mutable\n",
    "# list_1 = ['History', 'Math', 'Physics', 'Compsci']\n",
    "# list_2 = list_1\n",
    "\n",
    "# print(list_1)\n",
    "# print(list_2)\n",
    "\n",
    "# list_1[0] = 'Art'\n",
    "\n",
    "# print(list_1)\n",
    "# print(list_2)\n",
    "\n",
    "# Inmutable\n",
    "tupple_1 = ('History', 'Math', 'Physics', 'Compsci')\n",
    "tupple_2 = tupple_1\n",
    "\n",
    "print(tupple_1)\n",
    "print(list_2)\n",
    "\n",
    "#tupple_1[0] = 'Art'\n",
    "    \n",
    "#print(tupple_1)\n",
    "#print(tupple_2)"
   ]
  },
  {
   "cell_type": "code",
   "execution_count": 64,
   "id": "e28c7d50-c544-49de-b3bb-823a4b89e08a",
   "metadata": {},
   "outputs": [
    {
     "name": "stdout",
     "output_type": "stream",
     "text": [
      "{'History', 'Compsci', 'Math', 'Design', 'Physics'}\n"
     ]
    }
   ],
   "source": [
    "cs_courses = {'History', 'Math', 'Physics', 'Compsci'}\n",
    "art_courses = {'History', 'Math', 'Design'}\n",
    "\n",
    "\n",
    "print(cs_courses.union(art_courses))"
   ]
  },
  {
   "cell_type": "code",
   "execution_count": 66,
   "id": "5afdefbf-e4d3-4a1b-99e0-05e55a43cf86",
   "metadata": {},
   "outputs": [],
   "source": [
    "# Empty lists\n",
    "empty_list = []\n",
    "empty_list = list()\n",
    "\n",
    "#Empty Tuples\n",
    "empty_tuple = ()\n",
    "empty_tuple = tuple()\n",
    "\n",
    "#Empty Sets\n",
    "empty_set = {} # This isn't right! It's a dict\n",
    "empty_set = set()"
   ]
  },
  {
   "cell_type": "code",
   "execution_count": null,
   "id": "dfa1e19a-a0d6-4621-9cae-4abb4e0b549a",
   "metadata": {},
   "outputs": [],
   "source": []
  }
 ],
 "metadata": {
  "kernelspec": {
   "display_name": "Python 3",
   "language": "python",
   "name": "python3"
  },
  "language_info": {
   "codemirror_mode": {
    "name": "ipython",
    "version": 3
   },
   "file_extension": ".py",
   "mimetype": "text/x-python",
   "name": "python",
   "nbconvert_exporter": "python",
   "pygments_lexer": "ipython3",
   "version": "3.9.1"
  }
 },
 "nbformat": 4,
 "nbformat_minor": 5
}
